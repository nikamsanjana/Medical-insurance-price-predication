{
 "cells": [
  {
   "cell_type": "markdown",
   "id": "19b6f02d-eabc-4da3-8ac1-82f225b816ae",
   "metadata": {},
   "source": [
    "# Data Preprocessing"
   ]
  },
  {
   "cell_type": "code",
   "execution_count": 293,
   "id": "f709875a-36b7-4d7d-8992-54ab48100105",
   "metadata": {},
   "outputs": [],
   "source": [
    "import pandas as pd\n",
    "import numpy as np\n",
    "import matplotlib.pyplot as plt\n",
    "import seaborn as sns\n",
    "from sklearn.model_selection import train_test_split\n",
    "from sklearn.linear_model import LinearRegression\n",
    "from sklearn.tree import DecisionTreeRegressor\n",
    "from sklearn.ensemble import RandomForestRegressor\n",
    "from sklearn.metrics import mean_absolute_error, mean_squared_error, r2_score\n",
    "from sklearn import metrics\n",
    "from sklearn.model_selection import cross_val_score, KFold\n",
    "import warnings"
   ]
  },
  {
   "cell_type": "code",
   "execution_count": 294,
   "id": "5f9842ed-4a6d-4c5e-996d-0790ecc5b648",
   "metadata": {},
   "outputs": [],
   "source": [
    "# Create data frame to read dataset\n",
    "df = pd.read_csv(\"Medical_insurance.csv\")"
   ]
  },
  {
   "cell_type": "code",
   "execution_count": 295,
   "id": "717af3c2-4c09-4fbf-b9ec-6b681573f69d",
   "metadata": {},
   "outputs": [
    {
     "data": {
      "text/html": [
       "<div>\n",
       "<style scoped>\n",
       "    .dataframe tbody tr th:only-of-type {\n",
       "        vertical-align: middle;\n",
       "    }\n",
       "\n",
       "    .dataframe tbody tr th {\n",
       "        vertical-align: top;\n",
       "    }\n",
       "\n",
       "    .dataframe thead th {\n",
       "        text-align: right;\n",
       "    }\n",
       "</style>\n",
       "<table border=\"1\" class=\"dataframe\">\n",
       "  <thead>\n",
       "    <tr style=\"text-align: right;\">\n",
       "      <th></th>\n",
       "      <th>age</th>\n",
       "      <th>sex</th>\n",
       "      <th>bmi</th>\n",
       "      <th>children</th>\n",
       "      <th>smoker</th>\n",
       "      <th>region</th>\n",
       "      <th>charges</th>\n",
       "    </tr>\n",
       "  </thead>\n",
       "  <tbody>\n",
       "    <tr>\n",
       "      <th>0</th>\n",
       "      <td>19</td>\n",
       "      <td>female</td>\n",
       "      <td>27.900</td>\n",
       "      <td>0</td>\n",
       "      <td>yes</td>\n",
       "      <td>southwest</td>\n",
       "      <td>16884.92400</td>\n",
       "    </tr>\n",
       "    <tr>\n",
       "      <th>1</th>\n",
       "      <td>18</td>\n",
       "      <td>male</td>\n",
       "      <td>33.770</td>\n",
       "      <td>1</td>\n",
       "      <td>no</td>\n",
       "      <td>southeast</td>\n",
       "      <td>1725.55230</td>\n",
       "    </tr>\n",
       "    <tr>\n",
       "      <th>2</th>\n",
       "      <td>28</td>\n",
       "      <td>male</td>\n",
       "      <td>33.000</td>\n",
       "      <td>3</td>\n",
       "      <td>no</td>\n",
       "      <td>southeast</td>\n",
       "      <td>4449.46200</td>\n",
       "    </tr>\n",
       "    <tr>\n",
       "      <th>3</th>\n",
       "      <td>33</td>\n",
       "      <td>male</td>\n",
       "      <td>22.705</td>\n",
       "      <td>0</td>\n",
       "      <td>no</td>\n",
       "      <td>northwest</td>\n",
       "      <td>21984.47061</td>\n",
       "    </tr>\n",
       "    <tr>\n",
       "      <th>4</th>\n",
       "      <td>32</td>\n",
       "      <td>male</td>\n",
       "      <td>28.880</td>\n",
       "      <td>0</td>\n",
       "      <td>no</td>\n",
       "      <td>northwest</td>\n",
       "      <td>3866.85520</td>\n",
       "    </tr>\n",
       "    <tr>\n",
       "      <th>...</th>\n",
       "      <td>...</td>\n",
       "      <td>...</td>\n",
       "      <td>...</td>\n",
       "      <td>...</td>\n",
       "      <td>...</td>\n",
       "      <td>...</td>\n",
       "      <td>...</td>\n",
       "    </tr>\n",
       "    <tr>\n",
       "      <th>2767</th>\n",
       "      <td>47</td>\n",
       "      <td>female</td>\n",
       "      <td>45.320</td>\n",
       "      <td>1</td>\n",
       "      <td>no</td>\n",
       "      <td>southeast</td>\n",
       "      <td>8569.86180</td>\n",
       "    </tr>\n",
       "    <tr>\n",
       "      <th>2768</th>\n",
       "      <td>21</td>\n",
       "      <td>female</td>\n",
       "      <td>34.600</td>\n",
       "      <td>0</td>\n",
       "      <td>no</td>\n",
       "      <td>southwest</td>\n",
       "      <td>2020.17700</td>\n",
       "    </tr>\n",
       "    <tr>\n",
       "      <th>2769</th>\n",
       "      <td>19</td>\n",
       "      <td>male</td>\n",
       "      <td>26.030</td>\n",
       "      <td>1</td>\n",
       "      <td>yes</td>\n",
       "      <td>northwest</td>\n",
       "      <td>16450.89470</td>\n",
       "    </tr>\n",
       "    <tr>\n",
       "      <th>2770</th>\n",
       "      <td>23</td>\n",
       "      <td>male</td>\n",
       "      <td>18.715</td>\n",
       "      <td>0</td>\n",
       "      <td>no</td>\n",
       "      <td>northwest</td>\n",
       "      <td>21595.38229</td>\n",
       "    </tr>\n",
       "    <tr>\n",
       "      <th>2771</th>\n",
       "      <td>54</td>\n",
       "      <td>male</td>\n",
       "      <td>31.600</td>\n",
       "      <td>0</td>\n",
       "      <td>no</td>\n",
       "      <td>southwest</td>\n",
       "      <td>9850.43200</td>\n",
       "    </tr>\n",
       "  </tbody>\n",
       "</table>\n",
       "<p>2772 rows × 7 columns</p>\n",
       "</div>"
      ],
      "text/plain": [
       "      age     sex     bmi  children smoker     region      charges\n",
       "0      19  female  27.900         0    yes  southwest  16884.92400\n",
       "1      18    male  33.770         1     no  southeast   1725.55230\n",
       "2      28    male  33.000         3     no  southeast   4449.46200\n",
       "3      33    male  22.705         0     no  northwest  21984.47061\n",
       "4      32    male  28.880         0     no  northwest   3866.85520\n",
       "...   ...     ...     ...       ...    ...        ...          ...\n",
       "2767   47  female  45.320         1     no  southeast   8569.86180\n",
       "2768   21  female  34.600         0     no  southwest   2020.17700\n",
       "2769   19    male  26.030         1    yes  northwest  16450.89470\n",
       "2770   23    male  18.715         0     no  northwest  21595.38229\n",
       "2771   54    male  31.600         0     no  southwest   9850.43200\n",
       "\n",
       "[2772 rows x 7 columns]"
      ]
     },
     "execution_count": 295,
     "metadata": {},
     "output_type": "execute_result"
    }
   ],
   "source": [
    "df"
   ]
  },
  {
   "cell_type": "code",
   "execution_count": 296,
   "id": "23a62f05-da15-43fb-80f2-636f0a5efa76",
   "metadata": {},
   "outputs": [
    {
     "data": {
      "text/html": [
       "<div>\n",
       "<style scoped>\n",
       "    .dataframe tbody tr th:only-of-type {\n",
       "        vertical-align: middle;\n",
       "    }\n",
       "\n",
       "    .dataframe tbody tr th {\n",
       "        vertical-align: top;\n",
       "    }\n",
       "\n",
       "    .dataframe thead th {\n",
       "        text-align: right;\n",
       "    }\n",
       "</style>\n",
       "<table border=\"1\" class=\"dataframe\">\n",
       "  <thead>\n",
       "    <tr style=\"text-align: right;\">\n",
       "      <th></th>\n",
       "      <th>age</th>\n",
       "      <th>sex</th>\n",
       "      <th>bmi</th>\n",
       "      <th>children</th>\n",
       "      <th>smoker</th>\n",
       "      <th>region</th>\n",
       "      <th>charges</th>\n",
       "    </tr>\n",
       "  </thead>\n",
       "  <tbody>\n",
       "    <tr>\n",
       "      <th>0</th>\n",
       "      <td>19</td>\n",
       "      <td>female</td>\n",
       "      <td>27.900</td>\n",
       "      <td>0</td>\n",
       "      <td>yes</td>\n",
       "      <td>southwest</td>\n",
       "      <td>16884.92400</td>\n",
       "    </tr>\n",
       "    <tr>\n",
       "      <th>1</th>\n",
       "      <td>18</td>\n",
       "      <td>male</td>\n",
       "      <td>33.770</td>\n",
       "      <td>1</td>\n",
       "      <td>no</td>\n",
       "      <td>southeast</td>\n",
       "      <td>1725.55230</td>\n",
       "    </tr>\n",
       "    <tr>\n",
       "      <th>2</th>\n",
       "      <td>28</td>\n",
       "      <td>male</td>\n",
       "      <td>33.000</td>\n",
       "      <td>3</td>\n",
       "      <td>no</td>\n",
       "      <td>southeast</td>\n",
       "      <td>4449.46200</td>\n",
       "    </tr>\n",
       "    <tr>\n",
       "      <th>3</th>\n",
       "      <td>33</td>\n",
       "      <td>male</td>\n",
       "      <td>22.705</td>\n",
       "      <td>0</td>\n",
       "      <td>no</td>\n",
       "      <td>northwest</td>\n",
       "      <td>21984.47061</td>\n",
       "    </tr>\n",
       "    <tr>\n",
       "      <th>4</th>\n",
       "      <td>32</td>\n",
       "      <td>male</td>\n",
       "      <td>28.880</td>\n",
       "      <td>0</td>\n",
       "      <td>no</td>\n",
       "      <td>northwest</td>\n",
       "      <td>3866.85520</td>\n",
       "    </tr>\n",
       "  </tbody>\n",
       "</table>\n",
       "</div>"
      ],
      "text/plain": [
       "   age     sex     bmi  children smoker     region      charges\n",
       "0   19  female  27.900         0    yes  southwest  16884.92400\n",
       "1   18    male  33.770         1     no  southeast   1725.55230\n",
       "2   28    male  33.000         3     no  southeast   4449.46200\n",
       "3   33    male  22.705         0     no  northwest  21984.47061\n",
       "4   32    male  28.880         0     no  northwest   3866.85520"
      ]
     },
     "execution_count": 296,
     "metadata": {},
     "output_type": "execute_result"
    }
   ],
   "source": [
    "# display top 5 rows of the dataset\n",
    "df.head()"
   ]
  },
  {
   "cell_type": "code",
   "execution_count": 297,
   "id": "a036cc77-4275-4568-b916-29dceaafb666",
   "metadata": {},
   "outputs": [
    {
     "data": {
      "text/html": [
       "<div>\n",
       "<style scoped>\n",
       "    .dataframe tbody tr th:only-of-type {\n",
       "        vertical-align: middle;\n",
       "    }\n",
       "\n",
       "    .dataframe tbody tr th {\n",
       "        vertical-align: top;\n",
       "    }\n",
       "\n",
       "    .dataframe thead th {\n",
       "        text-align: right;\n",
       "    }\n",
       "</style>\n",
       "<table border=\"1\" class=\"dataframe\">\n",
       "  <thead>\n",
       "    <tr style=\"text-align: right;\">\n",
       "      <th></th>\n",
       "      <th>age</th>\n",
       "      <th>sex</th>\n",
       "      <th>bmi</th>\n",
       "      <th>children</th>\n",
       "      <th>smoker</th>\n",
       "      <th>region</th>\n",
       "      <th>charges</th>\n",
       "    </tr>\n",
       "  </thead>\n",
       "  <tbody>\n",
       "    <tr>\n",
       "      <th>2767</th>\n",
       "      <td>47</td>\n",
       "      <td>female</td>\n",
       "      <td>45.320</td>\n",
       "      <td>1</td>\n",
       "      <td>no</td>\n",
       "      <td>southeast</td>\n",
       "      <td>8569.86180</td>\n",
       "    </tr>\n",
       "    <tr>\n",
       "      <th>2768</th>\n",
       "      <td>21</td>\n",
       "      <td>female</td>\n",
       "      <td>34.600</td>\n",
       "      <td>0</td>\n",
       "      <td>no</td>\n",
       "      <td>southwest</td>\n",
       "      <td>2020.17700</td>\n",
       "    </tr>\n",
       "    <tr>\n",
       "      <th>2769</th>\n",
       "      <td>19</td>\n",
       "      <td>male</td>\n",
       "      <td>26.030</td>\n",
       "      <td>1</td>\n",
       "      <td>yes</td>\n",
       "      <td>northwest</td>\n",
       "      <td>16450.89470</td>\n",
       "    </tr>\n",
       "    <tr>\n",
       "      <th>2770</th>\n",
       "      <td>23</td>\n",
       "      <td>male</td>\n",
       "      <td>18.715</td>\n",
       "      <td>0</td>\n",
       "      <td>no</td>\n",
       "      <td>northwest</td>\n",
       "      <td>21595.38229</td>\n",
       "    </tr>\n",
       "    <tr>\n",
       "      <th>2771</th>\n",
       "      <td>54</td>\n",
       "      <td>male</td>\n",
       "      <td>31.600</td>\n",
       "      <td>0</td>\n",
       "      <td>no</td>\n",
       "      <td>southwest</td>\n",
       "      <td>9850.43200</td>\n",
       "    </tr>\n",
       "  </tbody>\n",
       "</table>\n",
       "</div>"
      ],
      "text/plain": [
       "      age     sex     bmi  children smoker     region      charges\n",
       "2767   47  female  45.320         1     no  southeast   8569.86180\n",
       "2768   21  female  34.600         0     no  southwest   2020.17700\n",
       "2769   19    male  26.030         1    yes  northwest  16450.89470\n",
       "2770   23    male  18.715         0     no  northwest  21595.38229\n",
       "2771   54    male  31.600         0     no  southwest   9850.43200"
      ]
     },
     "execution_count": 297,
     "metadata": {},
     "output_type": "execute_result"
    }
   ],
   "source": [
    "# display end 5 rows of the dataset\n",
    "df.tail()"
   ]
  },
  {
   "cell_type": "code",
   "execution_count": 298,
   "id": "74a935e4-0671-4b42-8946-dafae4441ccb",
   "metadata": {},
   "outputs": [
    {
     "data": {
      "text/plain": [
       "(2772, 7)"
      ]
     },
     "execution_count": 298,
     "metadata": {},
     "output_type": "execute_result"
    }
   ],
   "source": [
    "# find shape of our dataset(number of rows and number and columns)\n",
    "df.shape"
   ]
  },
  {
   "cell_type": "code",
   "execution_count": 299,
   "id": "18b18407-d826-4604-9336-6f392021c3d1",
   "metadata": {},
   "outputs": [
    {
     "data": {
      "text/plain": [
       "age         0\n",
       "sex         0\n",
       "bmi         0\n",
       "children    0\n",
       "smoker      0\n",
       "region      0\n",
       "charges     0\n",
       "dtype: int64"
      ]
     },
     "execution_count": 299,
     "metadata": {},
     "output_type": "execute_result"
    }
   ],
   "source": [
    "df.isnull().sum()"
   ]
  },
  {
   "cell_type": "code",
   "execution_count": 300,
   "id": "820a41c0-a210-42b5-823c-a6e25c705156",
   "metadata": {},
   "outputs": [
    {
     "name": "stdout",
     "output_type": "stream",
     "text": [
      "<class 'pandas.core.frame.DataFrame'>\n",
      "RangeIndex: 2772 entries, 0 to 2771\n",
      "Data columns (total 7 columns):\n",
      " #   Column    Non-Null Count  Dtype  \n",
      "---  ------    --------------  -----  \n",
      " 0   age       2772 non-null   int64  \n",
      " 1   sex       2772 non-null   object \n",
      " 2   bmi       2772 non-null   float64\n",
      " 3   children  2772 non-null   int64  \n",
      " 4   smoker    2772 non-null   object \n",
      " 5   region    2772 non-null   object \n",
      " 6   charges   2772 non-null   float64\n",
      "dtypes: float64(2), int64(2), object(3)\n",
      "memory usage: 151.7+ KB\n"
     ]
    }
   ],
   "source": [
    "df.info()"
   ]
  },
  {
   "cell_type": "code",
   "execution_count": 301,
   "id": "c7208ceb-6095-46c0-ac94-ad8d223c5553",
   "metadata": {},
   "outputs": [
    {
     "data": {
      "text/html": [
       "<div>\n",
       "<style scoped>\n",
       "    .dataframe tbody tr th:only-of-type {\n",
       "        vertical-align: middle;\n",
       "    }\n",
       "\n",
       "    .dataframe tbody tr th {\n",
       "        vertical-align: top;\n",
       "    }\n",
       "\n",
       "    .dataframe thead th {\n",
       "        text-align: right;\n",
       "    }\n",
       "</style>\n",
       "<table border=\"1\" class=\"dataframe\">\n",
       "  <thead>\n",
       "    <tr style=\"text-align: right;\">\n",
       "      <th></th>\n",
       "      <th>age</th>\n",
       "      <th>bmi</th>\n",
       "      <th>children</th>\n",
       "      <th>charges</th>\n",
       "    </tr>\n",
       "  </thead>\n",
       "  <tbody>\n",
       "    <tr>\n",
       "      <th>count</th>\n",
       "      <td>2772.000000</td>\n",
       "      <td>2772.000000</td>\n",
       "      <td>2772.000000</td>\n",
       "      <td>2772.000000</td>\n",
       "    </tr>\n",
       "    <tr>\n",
       "      <th>mean</th>\n",
       "      <td>39.109668</td>\n",
       "      <td>30.701349</td>\n",
       "      <td>1.101732</td>\n",
       "      <td>13261.369959</td>\n",
       "    </tr>\n",
       "    <tr>\n",
       "      <th>std</th>\n",
       "      <td>14.081459</td>\n",
       "      <td>6.129449</td>\n",
       "      <td>1.214806</td>\n",
       "      <td>12151.768945</td>\n",
       "    </tr>\n",
       "    <tr>\n",
       "      <th>min</th>\n",
       "      <td>18.000000</td>\n",
       "      <td>15.960000</td>\n",
       "      <td>0.000000</td>\n",
       "      <td>1121.873900</td>\n",
       "    </tr>\n",
       "    <tr>\n",
       "      <th>25%</th>\n",
       "      <td>26.000000</td>\n",
       "      <td>26.220000</td>\n",
       "      <td>0.000000</td>\n",
       "      <td>4687.797000</td>\n",
       "    </tr>\n",
       "    <tr>\n",
       "      <th>50%</th>\n",
       "      <td>39.000000</td>\n",
       "      <td>30.447500</td>\n",
       "      <td>1.000000</td>\n",
       "      <td>9333.014350</td>\n",
       "    </tr>\n",
       "    <tr>\n",
       "      <th>75%</th>\n",
       "      <td>51.000000</td>\n",
       "      <td>34.770000</td>\n",
       "      <td>2.000000</td>\n",
       "      <td>16577.779500</td>\n",
       "    </tr>\n",
       "    <tr>\n",
       "      <th>max</th>\n",
       "      <td>64.000000</td>\n",
       "      <td>53.130000</td>\n",
       "      <td>5.000000</td>\n",
       "      <td>63770.428010</td>\n",
       "    </tr>\n",
       "  </tbody>\n",
       "</table>\n",
       "</div>"
      ],
      "text/plain": [
       "               age          bmi     children       charges\n",
       "count  2772.000000  2772.000000  2772.000000   2772.000000\n",
       "mean     39.109668    30.701349     1.101732  13261.369959\n",
       "std      14.081459     6.129449     1.214806  12151.768945\n",
       "min      18.000000    15.960000     0.000000   1121.873900\n",
       "25%      26.000000    26.220000     0.000000   4687.797000\n",
       "50%      39.000000    30.447500     1.000000   9333.014350\n",
       "75%      51.000000    34.770000     2.000000  16577.779500\n",
       "max      64.000000    53.130000     5.000000  63770.428010"
      ]
     },
     "execution_count": 301,
     "metadata": {},
     "output_type": "execute_result"
    }
   ],
   "source": [
    "# describe of numerical columns\n",
    "df.describe()"
   ]
  },
  {
   "cell_type": "markdown",
   "id": "ab47c922-b5f3-4bd6-aeee-31861084a3f6",
   "metadata": {},
   "source": [
    "# Data Visualization"
   ]
  },
  {
   "cell_type": "code",
   "execution_count": 302,
   "id": "97bbd815-a70f-49ee-a951-896e81ccc580",
   "metadata": {},
   "outputs": [
    {
     "name": "stderr",
     "output_type": "stream",
     "text": [
      "C:\\ProgramData\\anaconda3\\Lib\\site-packages\\seaborn\\_oldcore.py:1119: FutureWarning: use_inf_as_na option is deprecated and will be removed in a future version. Convert inf values to NaN before operating instead.\n",
      "  with pd.option_context('mode.use_inf_as_na', True):\n"
     ]
    },
    {
     "data": {
      "image/png": "[encoded data removed]",
      "text/plain": [
       "<Figure size 1000x600 with 4 Axes>"
      ]
     },
     "metadata": {},
     "output_type": "display_data"
    }
   ],
   "source": [
    "plt.figure(figsize=(10, 6))\n",
    "\n",
    "plt.subplot(2, 2, 1)\n",
    "plt.plot(df['age'], marker='o', linestyle='-')\n",
    "plt.title('age')\n",
    "\n",
    "plt.subplot(2, 2, 2)\n",
    "sns.histplot(df['bmi'], bins=10)\n",
    "plt.title('bmi')\n",
    "\n",
    "plt.subplot(2, 2, 3)\n",
    "plt.scatter(df['age'], df['children'], marker='o')\n",
    "plt.xlabel('age')\n",
    "plt.ylabel('charges')\n",
    "plt.title('charges')\n",
    "\n",
    "plt.subplot(2, 2, 4)\n",
    "sns.boxplot(y=df['children'])\n",
    "plt.title('children')\n",
    "\n",
    "plt.tight_layout()\n",
    "plt.show()"
   ]
  },
  {
   "cell_type": "markdown",
   "id": "0742bc48-ed75-472d-a854-b0c42fa05c7b",
   "metadata": {},
   "source": [
    "# convert into classification to numerical¶"
   ]
  },
  {
   "cell_type": "code",
   "execution_count": 305,
   "id": "a35cf431-b513-4e7b-ba4b-22abe49c4f72",
   "metadata": {},
   "outputs": [
    {
     "data": {
      "text/plain": [
       "smoker\n",
       "no     2208\n",
       "yes     564\n",
       "Name: count, dtype: int64"
      ]
     },
     "execution_count": 305,
     "metadata": {},
     "output_type": "execute_result"
    }
   ],
   "source": [
    "df['smoker'].value_counts()"
   ]
  },
  {
   "cell_type": "code",
   "execution_count": 306,
   "id": "334ed765-2678-44aa-8529-c86f8392d08b",
   "metadata": {},
   "outputs": [
    {
     "data": {
      "text/plain": [
       "region\n",
       "southeast    766\n",
       "southwest    684\n",
       "northwest    664\n",
       "northeast    658\n",
       "Name: count, dtype: int64"
      ]
     },
     "execution_count": 306,
     "metadata": {},
     "output_type": "execute_result"
    }
   ],
   "source": [
    "df['region'].value_counts()"
   ]
  },
  {
   "cell_type": "code",
   "execution_count": 307,
   "id": "fcfdd320-0f8b-4cd2-9639-691d73478fe8",
   "metadata": {},
   "outputs": [],
   "source": [
    "df.replace({'sex':{'male':0,'female':1}},inplace=True)\n",
    "df.replace({'smoker':{'yes':0,'no':1}},inplace=True)\n",
    "df.replace({'region':{'southeast':0,'southwest':1,'northwest':2,'northeast':3}},inplace=True)"
   ]
  },
  {
   "cell_type": "code",
   "execution_count": 308,
   "id": "889b2226-4b4d-43fc-bfcf-b2b41f51af0f",
   "metadata": {},
   "outputs": [
    {
     "data": {
      "text/html": [
       "<div>\n",
       "<style scoped>\n",
       "    .dataframe tbody tr th:only-of-type {\n",
       "        vertical-align: middle;\n",
       "    }\n",
       "\n",
       "    .dataframe tbody tr th {\n",
       "        vertical-align: top;\n",
       "    }\n",
       "\n",
       "    .dataframe thead th {\n",
       "        text-align: right;\n",
       "    }\n",
       "</style>\n",
       "<table border=\"1\" class=\"dataframe\">\n",
       "  <thead>\n",
       "    <tr style=\"text-align: right;\">\n",
       "      <th></th>\n",
       "      <th>age</th>\n",
       "      <th>sex</th>\n",
       "      <th>bmi</th>\n",
       "      <th>children</th>\n",
       "      <th>smoker</th>\n",
       "      <th>region</th>\n",
       "      <th>charges</th>\n",
       "    </tr>\n",
       "  </thead>\n",
       "  <tbody>\n",
       "    <tr>\n",
       "      <th>0</th>\n",
       "      <td>19</td>\n",
       "      <td>1</td>\n",
       "      <td>27.900</td>\n",
       "      <td>0</td>\n",
       "      <td>0</td>\n",
       "      <td>1</td>\n",
       "      <td>16884.92400</td>\n",
       "    </tr>\n",
       "    <tr>\n",
       "      <th>1</th>\n",
       "      <td>18</td>\n",
       "      <td>0</td>\n",
       "      <td>33.770</td>\n",
       "      <td>1</td>\n",
       "      <td>1</td>\n",
       "      <td>0</td>\n",
       "      <td>1725.55230</td>\n",
       "    </tr>\n",
       "    <tr>\n",
       "      <th>2</th>\n",
       "      <td>28</td>\n",
       "      <td>0</td>\n",
       "      <td>33.000</td>\n",
       "      <td>3</td>\n",
       "      <td>1</td>\n",
       "      <td>0</td>\n",
       "      <td>4449.46200</td>\n",
       "    </tr>\n",
       "    <tr>\n",
       "      <th>3</th>\n",
       "      <td>33</td>\n",
       "      <td>0</td>\n",
       "      <td>22.705</td>\n",
       "      <td>0</td>\n",
       "      <td>1</td>\n",
       "      <td>2</td>\n",
       "      <td>21984.47061</td>\n",
       "    </tr>\n",
       "    <tr>\n",
       "      <th>4</th>\n",
       "      <td>32</td>\n",
       "      <td>0</td>\n",
       "      <td>28.880</td>\n",
       "      <td>0</td>\n",
       "      <td>1</td>\n",
       "      <td>2</td>\n",
       "      <td>3866.85520</td>\n",
       "    </tr>\n",
       "  </tbody>\n",
       "</table>\n",
       "</div>"
      ],
      "text/plain": [
       "   age  sex     bmi  children  smoker  region      charges\n",
       "0   19    1  27.900         0       0       1  16884.92400\n",
       "1   18    0  33.770         1       1       0   1725.55230\n",
       "2   28    0  33.000         3       1       0   4449.46200\n",
       "3   33    0  22.705         0       1       2  21984.47061\n",
       "4   32    0  28.880         0       1       2   3866.85520"
      ]
     },
     "execution_count": 308,
     "metadata": {},
     "output_type": "execute_result"
    }
   ],
   "source": [
    "df.head()"
   ]
  },
  {
   "cell_type": "markdown",
   "id": "ce845820-8878-43bf-a609-9467d38db291",
   "metadata": {},
   "source": [
    "# using correlation"
   ]
  },
  {
   "cell_type": "code",
   "execution_count": 309,
   "id": "105f50d5-e0dc-4ce3-9495-4971d552de8c",
   "metadata": {},
   "outputs": [],
   "source": [
    "correlation = df.corr()"
   ]
  },
  {
   "cell_type": "code",
   "execution_count": 310,
   "id": "9f8b55c1-74b7-4638-b803-71a9ad90d114",
   "metadata": {},
   "outputs": [
    {
     "data": {
      "text/plain": [
       "<Axes: >"
      ]
     },
     "execution_count": 310,
     "metadata": {},
     "output_type": "execute_result"
    },
    {
     "data": {
      "image/png": "[encoded data removed]",
      "text/plain": [
       "<Figure size 1000x1000 with 2 Axes>"
      ]
     },
     "metadata": {},
     "output_type": "display_data"
    }
   ],
   "source": [
    "plt.figure(figsize=(10,10))\n",
    "sns.heatmap(df.corr(),annot=True,linewidths=2)"
   ]
  },
  {
   "cell_type": "markdown",
   "id": "749ba3f1-4695-49a0-835f-66556b039bbd",
   "metadata": {},
   "source": [
    "# train test split"
   ]
  },
  {
   "cell_type": "code",
   "execution_count": 311,
   "id": "69115077-c911-48f7-93ca-3321aa711006",
   "metadata": {},
   "outputs": [],
   "source": [
    "x = df.drop('charges', axis=1)\n",
    "y = df['charges']"
   ]
  },
  {
   "cell_type": "code",
   "execution_count": 312,
   "id": "e44543ad-35e0-47db-b027-46e43c9126dd",
   "metadata": {},
   "outputs": [],
   "source": [
    "x_train, x_test, y_train, y_test = train_test_split(x, y, test_size=0.1, random_state=42)"
   ]
  },
  {
   "cell_type": "code",
   "execution_count": 313,
   "id": "fc8a6189-1a73-4dbe-95de-5dd663ef9e71",
   "metadata": {},
   "outputs": [
    {
     "data": {
      "text/plain": [
       "(2494, 6)"
      ]
     },
     "execution_count": 313,
     "metadata": {},
     "output_type": "execute_result"
    }
   ],
   "source": [
    "x_train.shape"
   ]
  },
  {
   "cell_type": "code",
   "execution_count": 314,
   "id": "3d406a13-3fc2-48e1-a3ec-e222ef251376",
   "metadata": {},
   "outputs": [
    {
     "data": {
      "text/plain": [
       "(278, 6)"
      ]
     },
     "execution_count": 314,
     "metadata": {},
     "output_type": "execute_result"
    }
   ],
   "source": [
    "x_test.shape"
   ]
  },
  {
   "cell_type": "code",
   "execution_count": 315,
   "id": "1e3c7596-efd7-45eb-ac8e-7965c8b4ce07",
   "metadata": {},
   "outputs": [],
   "source": [
    "lg = LinearRegression()\n",
    "lg.fit(x_train,y_train) # so model will be train\n",
    "y_pred = lg.predict(x_test)# 10 model will be predicted"
   ]
  },
  {
   "cell_type": "code",
   "execution_count": 316,
   "id": "b302ffe7-14d7-4772-9507-582911dc9387",
   "metadata": {},
   "outputs": [
    {
     "data": {
      "text/plain": [
       "array([10252.37003392, 36925.63699247,  9242.58030653,  6095.56887906,\n",
       "        6498.52307519, 34140.83432712,  5889.4690635 , 39199.1850534 ,\n",
       "       11857.41649888,  3306.14631589, 13026.61010124, 12811.55228475,\n",
       "        5116.4016545 , 11212.95057807,  4025.98890266,  8029.72457501,\n",
       "       10031.88005226,  9560.02736626,  5003.56259867,  3764.18283654,\n",
       "       12722.33848571, 33168.36724467, 30684.85821089, 40037.14334607,\n",
       "       27492.903502  ,  9337.30443023, -1491.43449478, 16716.42294067,\n",
       "        8378.08682421,  -599.5211043 , 14211.43879366,  3631.84568848,\n",
       "        2781.10991561,  2121.11163781, 14747.84881671, 11803.35166863,\n",
       "        1610.28192142,  2185.82473035,  8385.27996477, 32106.56450089,\n",
       "        6054.59153877,  9613.47836161, 14360.78099081,  7064.09793246,\n",
       "         136.54890409, 40531.96013987,  4290.60626465, 35517.14030696,\n",
       "        5448.89433824,  6960.39101441, 36153.25897426,  9626.93175239,\n",
       "        3287.31769738,  9952.57573603,  6378.16095196, 12180.55270262,\n",
       "        3101.31499563,  1638.20230798,  7068.08177438,  6875.20397891,\n",
       "        8166.2996535 ,  2715.84563393, 10951.02807554,  9151.39642118,\n",
       "       11337.49192696, 10274.3640036 ,  4250.23653257,  1103.39204017,\n",
       "        7276.51934867,  5889.4690635 ,  9224.99687388, 10256.61314136,\n",
       "        8262.96589641, 15354.09100022, 10832.7765097 , 14260.52970956,\n",
       "        1805.76218757, 10617.89596599,  4292.30716669, 16946.73338299,\n",
       "        3076.01625106,  4124.05273753, 14495.29210505,  4298.86528148,\n",
       "        9151.39642118, 33724.57191103,  5547.59426678, 11414.80937902,\n",
       "       40702.19263739,   437.93360857, 28841.1056303 , 12550.68066949,\n",
       "         -65.67501312, 25496.40792357,  3957.63794766,  8663.19313112,\n",
       "       34320.15415815,  7082.12721757,  6311.59089271,  9784.82929003,\n",
       "         367.36420762, 33906.4952979 , 10281.02275013,  5924.57638446,\n",
       "        3393.05472335,  1687.20190301,  9242.58030653,  2956.46020298,\n",
       "        8583.46933361,  1858.0207791 , 13034.26590991,  3805.14671387,\n",
       "       15083.98061946, 28140.477287  , 11388.40875399, 14705.54759217,\n",
       "        6098.17940406, 11407.59994117, -1094.74469668, 11501.93304852,\n",
       "        3693.16446117, 13371.92916553, 37778.60545451, 23959.11152661,\n",
       "        6136.11045802, 11104.84008886, 13862.68035538, 32069.06612408,\n",
       "        5511.40812164,  7490.40024389,  5895.8680089 ,  9032.95104937,\n",
       "       33925.88805345,  5630.13947283,  6267.40655771, 12661.42082051,\n",
       "        3731.12474307, 14102.95383854,  4565.85947333,  8251.32571352,\n",
       "         526.25516708, 10216.48510273,  3395.28689746, 32314.30497374,\n",
       "       13058.80204622, 10281.45310281, 37813.81939023, 10193.33856337,\n",
       "       10621.05583196, 11488.83133257, 27728.92664244, 11976.36935603,\n",
       "       34992.10883904, 29724.78668002, 26725.31252685,  3957.63794766,\n",
       "       10428.25854527,  9246.51389774,  1906.01786887,  4845.45909261,\n",
       "        3057.07296775, 12550.68066949, 14713.81176778,   967.5707526 ,\n",
       "        5448.89433824,  8295.90753623, 34792.49285618,  5502.39503145,\n",
       "       13448.64209356, 12491.70742742, 16077.42337981, 13283.74527636,\n",
       "       10836.66535595, 37333.86784294, 13771.48357715,  7816.26083992,\n",
       "       16620.4864583 , 27663.1396193 ,  4718.69798191, 38702.42745627,\n",
       "        8705.39707331,  3631.84568848, 13332.71897559,  5347.27649907,\n",
       "       38577.61829071,   -69.5633443 , 26216.25982122, 32610.42724986,\n",
       "        9424.43430588, 27271.88146801,  3707.97949475, 14537.24243502,\n",
       "       13212.72379626,   170.56936809, 25135.60926281,  4622.0472981 ,\n",
       "       11412.20325406,  2716.08680903, 39204.07667012,  6354.25620439,\n",
       "       16115.1652777 , 10592.10683415,  3211.97700111,  1061.56696394,\n",
       "        7808.80529134, 12533.30737788, 11464.55550816,  6715.59801721,\n",
       "       10727.24908917, 10658.93177941, 39063.90021393,  4046.56785588,\n",
       "       12354.3285777 ,  8680.68855451,  8317.75943652,  5172.06079357,\n",
       "        8980.52866527, 35091.40963734, -1759.46533496,  4623.91306061,\n",
       "        4686.96378993,  9149.20023401,  -531.66002578,  9050.17115461,\n",
       "       10968.21841723,  6699.35324764,  9152.60699099,  2530.31106067,\n",
       "        3883.88095401, 31601.38769361,  3239.7206472 , 26216.25982122,\n",
       "       34215.99462865,  7257.80174068,  6839.43988418,  7770.78859036,\n",
       "       10274.3640036 , 13849.58484558, 25145.80599879,  -599.5211043 ,\n",
       "       11335.97342198,  2677.28394997, 27810.29543798, 17851.85331103,\n",
       "        6826.51854573,  4059.39425368, 40702.19263739,  7092.52423088,\n",
       "       29605.97328107,  3892.46370877,  5377.76003723,  7735.83445576,\n",
       "       15344.44857535,  4615.84059294, 11587.09289289, 11364.70171462,\n",
       "       11669.63423448,  1315.67630211,  4690.17748862,  9983.91013638,\n",
       "        2737.22811042, 14949.39448165, 16074.15507244, 32375.50106181,\n",
       "       31914.43121996,  8203.55635741,  7314.24081443, 11414.80937902,\n",
       "        9983.91013638,  8271.70623758,  9078.81688441, 16902.76358908,\n",
       "        7734.36981799, 10801.77386711,  4958.70675313,  3835.93407717,\n",
       "        4944.14658831,  7123.16977275])"
      ]
     },
     "execution_count": 316,
     "metadata": {},
     "output_type": "execute_result"
    }
   ],
   "source": [
    "y_pred"
   ]
  },
  {
   "cell_type": "code",
   "execution_count": 317,
   "id": "0ef2ed20-486d-48ba-b279-a4626489d3c1",
   "metadata": {},
   "outputs": [
    {
     "data": {
      "text/plain": [
       "1106     8988.15875\n",
       "1321    28101.33305\n",
       "2313    12032.32600\n",
       "2274     1682.59700\n",
       "1432     3393.35635\n",
       "           ...     \n",
       "87      11073.17600\n",
       "1376    26018.95052\n",
       "2129     3757.84480\n",
       "2284     1634.57340\n",
       "432      5969.72300\n",
       "Name: charges, Length: 278, dtype: float64"
      ]
     },
     "execution_count": 317,
     "metadata": {},
     "output_type": "execute_result"
    }
   ],
   "source": [
    "y_test"
   ]
  },
  {
   "cell_type": "markdown",
   "id": "bfd2170a-921f-4c12-90f1-7d960fac48b8",
   "metadata": {},
   "source": [
    "# Feature Scaling¶"
   ]
  },
  {
   "cell_type": "code",
   "execution_count": 318,
   "id": "e8d51c84-5c28-4aaf-a437-e19335d0a645",
   "metadata": {},
   "outputs": [],
   "source": [
    "from sklearn.preprocessing import StandardScaler\n",
    "ss = StandardScaler()\n",
    "scaler = StandardScaler()"
   ]
  },
  {
   "cell_type": "code",
   "execution_count": 319,
   "id": "e41fd758-cc2c-4cc3-870f-cf59b2c97d78",
   "metadata": {},
   "outputs": [
    {
     "data": {
      "text/html": [
       "<style>#sk-container-id-18 {color: black;background-color: white;}#sk-container-id-18 pre{padding: 0;}#sk-container-id-18 div.sk-toggleable {background-color: white;}#sk-container-id-18 label.sk-toggleable__label {cursor: pointer;display: block;width: 100%;margin-bottom: 0;padding: 0.3em;box-sizing: border-box;text-align: center;}#sk-container-id-18 label.sk-toggleable__label-arrow:before {content: \"▸\";float: left;margin-right: 0.25em;color: #696969;}#sk-container-id-18 label.sk-toggleable__label-arrow:hover:before {color: black;}#sk-container-id-18 div.sk-estimator:hover label.sk-toggleable__label-arrow:before {color: black;}#sk-container-id-18 div.sk-toggleable__content {max-height: 0;max-width: 0;overflow: hidden;text-align: left;background-color: #f0f8ff;}#sk-container-id-18 div.sk-toggleable__content pre {margin: 0.2em;color: black;border-radius: 0.25em;background-color: #f0f8ff;}#sk-container-id-18 input.sk-toggleable__control:checked~div.sk-toggleable__content {max-height: 200px;max-width: 100%;overflow: auto;}#sk-container-id-18 input.sk-toggleable__control:checked~label.sk-toggleable__label-arrow:before {content: \"▾\";}#sk-container-id-18 div.sk-estimator input.sk-toggleable__control:checked~label.sk-toggleable__label {background-color: #d4ebff;}#sk-container-id-18 div.sk-label input.sk-toggleable__control:checked~label.sk-toggleable__label {background-color: #d4ebff;}#sk-container-id-18 input.sk-hidden--visually {border: 0;clip: rect(1px 1px 1px 1px);clip: rect(1px, 1px, 1px, 1px);height: 1px;margin: -1px;overflow: hidden;padding: 0;position: absolute;width: 1px;}#sk-container-id-18 div.sk-estimator {font-family: monospace;background-color: #f0f8ff;border: 1px dotted black;border-radius: 0.25em;box-sizing: border-box;margin-bottom: 0.5em;}#sk-container-id-18 div.sk-estimator:hover {background-color: #d4ebff;}#sk-container-id-18 div.sk-parallel-item::after {content: \"\";width: 100%;border-bottom: 1px solid gray;flex-grow: 1;}#sk-container-id-18 div.sk-label:hover label.sk-toggleable__label {background-color: #d4ebff;}#sk-container-id-18 div.sk-serial::before {content: \"\";position: absolute;border-left: 1px solid gray;box-sizing: border-box;top: 0;bottom: 0;left: 50%;z-index: 0;}#sk-container-id-18 div.sk-serial {display: flex;flex-direction: column;align-items: center;background-color: white;padding-right: 0.2em;padding-left: 0.2em;position: relative;}#sk-container-id-18 div.sk-item {position: relative;z-index: 1;}#sk-container-id-18 div.sk-parallel {display: flex;align-items: stretch;justify-content: center;background-color: white;position: relative;}#sk-container-id-18 div.sk-item::before, #sk-container-id-18 div.sk-parallel-item::before {content: \"\";position: absolute;border-left: 1px solid gray;box-sizing: border-box;top: 0;bottom: 0;left: 50%;z-index: -1;}#sk-container-id-18 div.sk-parallel-item {display: flex;flex-direction: column;z-index: 1;position: relative;background-color: white;}#sk-container-id-18 div.sk-parallel-item:first-child::after {align-self: flex-end;width: 50%;}#sk-container-id-18 div.sk-parallel-item:last-child::after {align-self: flex-start;width: 50%;}#sk-container-id-18 div.sk-parallel-item:only-child::after {width: 0;}#sk-container-id-18 div.sk-dashed-wrapped {border: 1px dashed gray;margin: 0 0.4em 0.5em 0.4em;box-sizing: border-box;padding-bottom: 0.4em;background-color: white;}#sk-container-id-18 div.sk-label label {font-family: monospace;font-weight: bold;display: inline-block;line-height: 1.2em;}#sk-container-id-18 div.sk-label-container {text-align: center;}#sk-container-id-18 div.sk-container {/* jupyter's `normalize.less` sets `[hidden] { display: none; }` but bootstrap.min.css set `[hidden] { display: none !important; }` so we also need the `!important` here to be able to override the default hidden behavior on the sphinx rendered scikit-learn.org. See: https://github.com/scikit-learn/scikit-learn/issues/21755 */display: inline-block !important;position: relative;}#sk-container-id-18 div.sk-text-repr-fallback {display: none;}</style><div id=\"sk-container-id-18\" class=\"sk-top-container\"><div class=\"sk-text-repr-fallback\"><pre>StandardScaler()</pre><b>In a Jupyter environment, please rerun this cell to show the HTML representation or trust the notebook. <br />On GitHub, the HTML representation is unable to render, please try loading this page with nbviewer.org.</b></div><div class=\"sk-container\" hidden><div class=\"sk-item\"><div class=\"sk-estimator sk-toggleable\"><input class=\"sk-toggleable__control sk-hidden--visually\" id=\"sk-estimator-id-18\" type=\"checkbox\" checked><label for=\"sk-estimator-id-18\" class=\"sk-toggleable__label sk-toggleable__label-arrow\">StandardScaler</label><div class=\"sk-toggleable__content\"><pre>StandardScaler()</pre></div></div></div></div></div>"
      ],
      "text/plain": [
       "StandardScaler()"
      ]
     },
     "execution_count": 319,
     "metadata": {},
     "output_type": "execute_result"
    }
   ],
   "source": [
    "scaler.fit(x)"
   ]
  },
  {
   "cell_type": "markdown",
   "id": "fec4e90d-8b99-4a0c-993b-2aabd11e53c4",
   "metadata": {},
   "source": [
    "# ML models"
   ]
  },
  {
   "cell_type": "markdown",
   "id": "17a57771-b559-4401-8f25-c9faefe978bf",
   "metadata": {},
   "source": [
    "# Linear Regression"
   ]
  },
  {
   "cell_type": "code",
   "execution_count": 320,
   "id": "74a2ce4b-b46f-49bc-9351-71bdad9b5958",
   "metadata": {},
   "outputs": [],
   "source": [
    "lr = LinearRegression()"
   ]
  },
  {
   "cell_type": "code",
   "execution_count": 321,
   "id": "b9c05c2e-743a-40e8-bcae-4156e828ce51",
   "metadata": {},
   "outputs": [
    {
     "data": {
      "text/html": [
       "<style>#sk-container-id-19 {color: black;background-color: white;}#sk-container-id-19 pre{padding: 0;}#sk-container-id-19 div.sk-toggleable {background-color: white;}#sk-container-id-19 label.sk-toggleable__label {cursor: pointer;display: block;width: 100%;margin-bottom: 0;padding: 0.3em;box-sizing: border-box;text-align: center;}#sk-container-id-19 label.sk-toggleable__label-arrow:before {content: \"▸\";float: left;margin-right: 0.25em;color: #696969;}#sk-container-id-19 label.sk-toggleable__label-arrow:hover:before {color: black;}#sk-container-id-19 div.sk-estimator:hover label.sk-toggleable__label-arrow:before {color: black;}#sk-container-id-19 div.sk-toggleable__content {max-height: 0;max-width: 0;overflow: hidden;text-align: left;background-color: #f0f8ff;}#sk-container-id-19 div.sk-toggleable__content pre {margin: 0.2em;color: black;border-radius: 0.25em;background-color: #f0f8ff;}#sk-container-id-19 input.sk-toggleable__control:checked~div.sk-toggleable__content {max-height: 200px;max-width: 100%;overflow: auto;}#sk-container-id-19 input.sk-toggleable__control:checked~label.sk-toggleable__label-arrow:before {content: \"▾\";}#sk-container-id-19 div.sk-estimator input.sk-toggleable__control:checked~label.sk-toggleable__label {background-color: #d4ebff;}#sk-container-id-19 div.sk-label input.sk-toggleable__control:checked~label.sk-toggleable__label {background-color: #d4ebff;}#sk-container-id-19 input.sk-hidden--visually {border: 0;clip: rect(1px 1px 1px 1px);clip: rect(1px, 1px, 1px, 1px);height: 1px;margin: -1px;overflow: hidden;padding: 0;position: absolute;width: 1px;}#sk-container-id-19 div.sk-estimator {font-family: monospace;background-color: #f0f8ff;border: 1px dotted black;border-radius: 0.25em;box-sizing: border-box;margin-bottom: 0.5em;}#sk-container-id-19 div.sk-estimator:hover {background-color: #d4ebff;}#sk-container-id-19 div.sk-parallel-item::after {content: \"\";width: 100%;border-bottom: 1px solid gray;flex-grow: 1;}#sk-container-id-19 div.sk-label:hover label.sk-toggleable__label {background-color: #d4ebff;}#sk-container-id-19 div.sk-serial::before {content: \"\";position: absolute;border-left: 1px solid gray;box-sizing: border-box;top: 0;bottom: 0;left: 50%;z-index: 0;}#sk-container-id-19 div.sk-serial {display: flex;flex-direction: column;align-items: center;background-color: white;padding-right: 0.2em;padding-left: 0.2em;position: relative;}#sk-container-id-19 div.sk-item {position: relative;z-index: 1;}#sk-container-id-19 div.sk-parallel {display: flex;align-items: stretch;justify-content: center;background-color: white;position: relative;}#sk-container-id-19 div.sk-item::before, #sk-container-id-19 div.sk-parallel-item::before {content: \"\";position: absolute;border-left: 1px solid gray;box-sizing: border-box;top: 0;bottom: 0;left: 50%;z-index: -1;}#sk-container-id-19 div.sk-parallel-item {display: flex;flex-direction: column;z-index: 1;position: relative;background-color: white;}#sk-container-id-19 div.sk-parallel-item:first-child::after {align-self: flex-end;width: 50%;}#sk-container-id-19 div.sk-parallel-item:last-child::after {align-self: flex-start;width: 50%;}#sk-container-id-19 div.sk-parallel-item:only-child::after {width: 0;}#sk-container-id-19 div.sk-dashed-wrapped {border: 1px dashed gray;margin: 0 0.4em 0.5em 0.4em;box-sizing: border-box;padding-bottom: 0.4em;background-color: white;}#sk-container-id-19 div.sk-label label {font-family: monospace;font-weight: bold;display: inline-block;line-height: 1.2em;}#sk-container-id-19 div.sk-label-container {text-align: center;}#sk-container-id-19 div.sk-container {/* jupyter's `normalize.less` sets `[hidden] { display: none; }` but bootstrap.min.css set `[hidden] { display: none !important; }` so we also need the `!important` here to be able to override the default hidden behavior on the sphinx rendered scikit-learn.org. See: https://github.com/scikit-learn/scikit-learn/issues/21755 */display: inline-block !important;position: relative;}#sk-container-id-19 div.sk-text-repr-fallback {display: none;}</style><div id=\"sk-container-id-19\" class=\"sk-top-container\"><div class=\"sk-text-repr-fallback\"><pre>LinearRegression()</pre><b>In a Jupyter environment, please rerun this cell to show the HTML representation or trust the notebook. <br />On GitHub, the HTML representation is unable to render, please try loading this page with nbviewer.org.</b></div><div class=\"sk-container\" hidden><div class=\"sk-item\"><div class=\"sk-estimator sk-toggleable\"><input class=\"sk-toggleable__control sk-hidden--visually\" id=\"sk-estimator-id-19\" type=\"checkbox\" checked><label for=\"sk-estimator-id-19\" class=\"sk-toggleable__label sk-toggleable__label-arrow\">LinearRegression</label><div class=\"sk-toggleable__content\"><pre>LinearRegression()</pre></div></div></div></div></div>"
      ],
      "text/plain": [
       "LinearRegression()"
      ]
     },
     "execution_count": 321,
     "metadata": {},
     "output_type": "execute_result"
    }
   ],
   "source": [
    "lr.fit(x_train,y_train)"
   ]
  },
  {
   "cell_type": "code",
   "execution_count": 322,
   "id": "33736b73-5487-4092-9553-06b1157605ef",
   "metadata": {},
   "outputs": [
    {
     "data": {
      "text/plain": [
       "array([ 2.56696824e+02, -1.29213384e+01,  3.25899650e+02,  4.97997130e+02,\n",
       "       -2.40165454e+04,  3.59397390e+02])"
      ]
     },
     "execution_count": 322,
     "metadata": {},
     "output_type": "execute_result"
    }
   ],
   "source": [
    "lr.coef_"
   ]
  },
  {
   "cell_type": "code",
   "execution_count": 323,
   "id": "a88cd921-8891-4dce-8c18-377e060fcbec",
   "metadata": {},
   "outputs": [
    {
     "data": {
      "text/plain": [
       "11232.350572701655"
      ]
     },
     "execution_count": 323,
     "metadata": {},
     "output_type": "execute_result"
    }
   ],
   "source": [
    "lr.intercept_"
   ]
  },
  {
   "cell_type": "markdown",
   "id": "e9a963bc-5098-4b44-bbcc-8f5487342e3b",
   "metadata": {},
   "source": [
    "# Decision Tree regression"
   ]
  },
  {
   "cell_type": "code",
   "execution_count": 324,
   "id": "beae2691-c50b-4991-b0a9-c468b0653389",
   "metadata": {},
   "outputs": [
    {
     "data": {
      "text/html": [
       "<style>#sk-container-id-20 {color: black;background-color: white;}#sk-container-id-20 pre{padding: 0;}#sk-container-id-20 div.sk-toggleable {background-color: white;}#sk-container-id-20 label.sk-toggleable__label {cursor: pointer;display: block;width: 100%;margin-bottom: 0;padding: 0.3em;box-sizing: border-box;text-align: center;}#sk-container-id-20 label.sk-toggleable__label-arrow:before {content: \"▸\";float: left;margin-right: 0.25em;color: #696969;}#sk-container-id-20 label.sk-toggleable__label-arrow:hover:before {color: black;}#sk-container-id-20 div.sk-estimator:hover label.sk-toggleable__label-arrow:before {color: black;}#sk-container-id-20 div.sk-toggleable__content {max-height: 0;max-width: 0;overflow: hidden;text-align: left;background-color: #f0f8ff;}#sk-container-id-20 div.sk-toggleable__content pre {margin: 0.2em;color: black;border-radius: 0.25em;background-color: #f0f8ff;}#sk-container-id-20 input.sk-toggleable__control:checked~div.sk-toggleable__content {max-height: 200px;max-width: 100%;overflow: auto;}#sk-container-id-20 input.sk-toggleable__control:checked~label.sk-toggleable__label-arrow:before {content: \"▾\";}#sk-container-id-20 div.sk-estimator input.sk-toggleable__control:checked~label.sk-toggleable__label {background-color: #d4ebff;}#sk-container-id-20 div.sk-label input.sk-toggleable__control:checked~label.sk-toggleable__label {background-color: #d4ebff;}#sk-container-id-20 input.sk-hidden--visually {border: 0;clip: rect(1px 1px 1px 1px);clip: rect(1px, 1px, 1px, 1px);height: 1px;margin: -1px;overflow: hidden;padding: 0;position: absolute;width: 1px;}#sk-container-id-20 div.sk-estimator {font-family: monospace;background-color: #f0f8ff;border: 1px dotted black;border-radius: 0.25em;box-sizing: border-box;margin-bottom: 0.5em;}#sk-container-id-20 div.sk-estimator:hover {background-color: #d4ebff;}#sk-container-id-20 div.sk-parallel-item::after {content: \"\";width: 100%;border-bottom: 1px solid gray;flex-grow: 1;}#sk-container-id-20 div.sk-label:hover label.sk-toggleable__label {background-color: #d4ebff;}#sk-container-id-20 div.sk-serial::before {content: \"\";position: absolute;border-left: 1px solid gray;box-sizing: border-box;top: 0;bottom: 0;left: 50%;z-index: 0;}#sk-container-id-20 div.sk-serial {display: flex;flex-direction: column;align-items: center;background-color: white;padding-right: 0.2em;padding-left: 0.2em;position: relative;}#sk-container-id-20 div.sk-item {position: relative;z-index: 1;}#sk-container-id-20 div.sk-parallel {display: flex;align-items: stretch;justify-content: center;background-color: white;position: relative;}#sk-container-id-20 div.sk-item::before, #sk-container-id-20 div.sk-parallel-item::before {content: \"\";position: absolute;border-left: 1px solid gray;box-sizing: border-box;top: 0;bottom: 0;left: 50%;z-index: -1;}#sk-container-id-20 div.sk-parallel-item {display: flex;flex-direction: column;z-index: 1;position: relative;background-color: white;}#sk-container-id-20 div.sk-parallel-item:first-child::after {align-self: flex-end;width: 50%;}#sk-container-id-20 div.sk-parallel-item:last-child::after {align-self: flex-start;width: 50%;}#sk-container-id-20 div.sk-parallel-item:only-child::after {width: 0;}#sk-container-id-20 div.sk-dashed-wrapped {border: 1px dashed gray;margin: 0 0.4em 0.5em 0.4em;box-sizing: border-box;padding-bottom: 0.4em;background-color: white;}#sk-container-id-20 div.sk-label label {font-family: monospace;font-weight: bold;display: inline-block;line-height: 1.2em;}#sk-container-id-20 div.sk-label-container {text-align: center;}#sk-container-id-20 div.sk-container {/* jupyter's `normalize.less` sets `[hidden] { display: none; }` but bootstrap.min.css set `[hidden] { display: none !important; }` so we also need the `!important` here to be able to override the default hidden behavior on the sphinx rendered scikit-learn.org. See: https://github.com/scikit-learn/scikit-learn/issues/21755 */display: inline-block !important;position: relative;}#sk-container-id-20 div.sk-text-repr-fallback {display: none;}</style><div id=\"sk-container-id-20\" class=\"sk-top-container\"><div class=\"sk-text-repr-fallback\"><pre>DecisionTreeRegressor()</pre><b>In a Jupyter environment, please rerun this cell to show the HTML representation or trust the notebook. <br />On GitHub, the HTML representation is unable to render, please try loading this page with nbviewer.org.</b></div><div class=\"sk-container\" hidden><div class=\"sk-item\"><div class=\"sk-estimator sk-toggleable\"><input class=\"sk-toggleable__control sk-hidden--visually\" id=\"sk-estimator-id-20\" type=\"checkbox\" checked><label for=\"sk-estimator-id-20\" class=\"sk-toggleable__label sk-toggleable__label-arrow\">DecisionTreeRegressor</label><div class=\"sk-toggleable__content\"><pre>DecisionTreeRegressor()</pre></div></div></div></div></div>"
      ],
      "text/plain": [
       "DecisionTreeRegressor()"
      ]
     },
     "execution_count": 324,
     "metadata": {},
     "output_type": "execute_result"
    }
   ],
   "source": [
    "regressor=DecisionTreeRegressor(criterion='squared_error')\n",
    "regressor.fit(x_train,y_train)"
   ]
  },
  {
   "cell_type": "code",
   "execution_count": 325,
   "id": "39a62184-c6d4-4b21-b4d2-430d82b14e3e",
   "metadata": {},
   "outputs": [
    {
     "data": {
      "text/plain": [
       "0.9943258066342713"
      ]
     },
     "execution_count": 325,
     "metadata": {},
     "output_type": "execute_result"
    }
   ],
   "source": [
    "regressor.score(x_test,y_test)"
   ]
  },
  {
   "cell_type": "markdown",
   "id": "e0dd0176-3c2b-4698-a881-1fa9aa2ae6d9",
   "metadata": {},
   "source": [
    "# random forest regression"
   ]
  },
  {
   "cell_type": "code",
   "execution_count": 326,
   "id": "5fb9c4c6-5df0-481f-a50e-0109c838ac55",
   "metadata": {},
   "outputs": [
    {
     "data": {
      "text/html": [
       "<style>#sk-container-id-21 {color: black;background-color: white;}#sk-container-id-21 pre{padding: 0;}#sk-container-id-21 div.sk-toggleable {background-color: white;}#sk-container-id-21 label.sk-toggleable__label {cursor: pointer;display: block;width: 100%;margin-bottom: 0;padding: 0.3em;box-sizing: border-box;text-align: center;}#sk-container-id-21 label.sk-toggleable__label-arrow:before {content: \"▸\";float: left;margin-right: 0.25em;color: #696969;}#sk-container-id-21 label.sk-toggleable__label-arrow:hover:before {color: black;}#sk-container-id-21 div.sk-estimator:hover label.sk-toggleable__label-arrow:before {color: black;}#sk-container-id-21 div.sk-toggleable__content {max-height: 0;max-width: 0;overflow: hidden;text-align: left;background-color: #f0f8ff;}#sk-container-id-21 div.sk-toggleable__content pre {margin: 0.2em;color: black;border-radius: 0.25em;background-color: #f0f8ff;}#sk-container-id-21 input.sk-toggleable__control:checked~div.sk-toggleable__content {max-height: 200px;max-width: 100%;overflow: auto;}#sk-container-id-21 input.sk-toggleable__control:checked~label.sk-toggleable__label-arrow:before {content: \"▾\";}#sk-container-id-21 div.sk-estimator input.sk-toggleable__control:checked~label.sk-toggleable__label {background-color: #d4ebff;}#sk-container-id-21 div.sk-label input.sk-toggleable__control:checked~label.sk-toggleable__label {background-color: #d4ebff;}#sk-container-id-21 input.sk-hidden--visually {border: 0;clip: rect(1px 1px 1px 1px);clip: rect(1px, 1px, 1px, 1px);height: 1px;margin: -1px;overflow: hidden;padding: 0;position: absolute;width: 1px;}#sk-container-id-21 div.sk-estimator {font-family: monospace;background-color: #f0f8ff;border: 1px dotted black;border-radius: 0.25em;box-sizing: border-box;margin-bottom: 0.5em;}#sk-container-id-21 div.sk-estimator:hover {background-color: #d4ebff;}#sk-container-id-21 div.sk-parallel-item::after {content: \"\";width: 100%;border-bottom: 1px solid gray;flex-grow: 1;}#sk-container-id-21 div.sk-label:hover label.sk-toggleable__label {background-color: #d4ebff;}#sk-container-id-21 div.sk-serial::before {content: \"\";position: absolute;border-left: 1px solid gray;box-sizing: border-box;top: 0;bottom: 0;left: 50%;z-index: 0;}#sk-container-id-21 div.sk-serial {display: flex;flex-direction: column;align-items: center;background-color: white;padding-right: 0.2em;padding-left: 0.2em;position: relative;}#sk-container-id-21 div.sk-item {position: relative;z-index: 1;}#sk-container-id-21 div.sk-parallel {display: flex;align-items: stretch;justify-content: center;background-color: white;position: relative;}#sk-container-id-21 div.sk-item::before, #sk-container-id-21 div.sk-parallel-item::before {content: \"\";position: absolute;border-left: 1px solid gray;box-sizing: border-box;top: 0;bottom: 0;left: 50%;z-index: -1;}#sk-container-id-21 div.sk-parallel-item {display: flex;flex-direction: column;z-index: 1;position: relative;background-color: white;}#sk-container-id-21 div.sk-parallel-item:first-child::after {align-self: flex-end;width: 50%;}#sk-container-id-21 div.sk-parallel-item:last-child::after {align-self: flex-start;width: 50%;}#sk-container-id-21 div.sk-parallel-item:only-child::after {width: 0;}#sk-container-id-21 div.sk-dashed-wrapped {border: 1px dashed gray;margin: 0 0.4em 0.5em 0.4em;box-sizing: border-box;padding-bottom: 0.4em;background-color: white;}#sk-container-id-21 div.sk-label label {font-family: monospace;font-weight: bold;display: inline-block;line-height: 1.2em;}#sk-container-id-21 div.sk-label-container {text-align: center;}#sk-container-id-21 div.sk-container {/* jupyter's `normalize.less` sets `[hidden] { display: none; }` but bootstrap.min.css set `[hidden] { display: none !important; }` so we also need the `!important` here to be able to override the default hidden behavior on the sphinx rendered scikit-learn.org. See: https://github.com/scikit-learn/scikit-learn/issues/21755 */display: inline-block !important;position: relative;}#sk-container-id-21 div.sk-text-repr-fallback {display: none;}</style><div id=\"sk-container-id-21\" class=\"sk-top-container\"><div class=\"sk-text-repr-fallback\"><pre>RandomForestRegressor()</pre><b>In a Jupyter environment, please rerun this cell to show the HTML representation or trust the notebook. <br />On GitHub, the HTML representation is unable to render, please try loading this page with nbviewer.org.</b></div><div class=\"sk-container\" hidden><div class=\"sk-item\"><div class=\"sk-estimator sk-toggleable\"><input class=\"sk-toggleable__control sk-hidden--visually\" id=\"sk-estimator-id-21\" type=\"checkbox\" checked><label for=\"sk-estimator-id-21\" class=\"sk-toggleable__label sk-toggleable__label-arrow\">RandomForestRegressor</label><div class=\"sk-toggleable__content\"><pre>RandomForestRegressor()</pre></div></div></div></div></div>"
      ],
      "text/plain": [
       "RandomForestRegressor()"
      ]
     },
     "execution_count": 326,
     "metadata": {},
     "output_type": "execute_result"
    }
   ],
   "source": [
    "Regressor=RandomForestRegressor(n_estimators=100,criterion='squared_error')\n",
    "Regressor.fit(x_train,y_train)"
   ]
  },
  {
   "cell_type": "code",
   "execution_count": 208,
   "id": "0f81fdd1-16c1-4411-a995-0c79874d6574",
   "metadata": {},
   "outputs": [
    {
     "data": {
      "text/plain": [
       "0.9701946760720626"
      ]
     },
     "execution_count": 208,
     "metadata": {},
     "output_type": "execute_result"
    }
   ],
   "source": [
    "Regressor.score(x_test,y_test)"
   ]
  },
  {
   "cell_type": "code",
   "execution_count": 328,
   "id": "1529ac47-1f9e-4651-9e1d-bba45e1bee9a",
   "metadata": {},
   "outputs": [],
   "source": [
    "cv = KFold(n_splits=5, random_state=50, shuffle=True)"
   ]
  },
  {
   "cell_type": "code",
   "execution_count": 329,
   "id": "406d4fbf-e9db-458e-91fa-e51df20099d7",
   "metadata": {},
   "outputs": [
    {
     "data": {
      "text/plain": [
       "array([10252.37003392, 36925.63699247,  9242.58030653,  6095.56887906,\n",
       "        6498.52307519, 34140.83432712,  5889.4690635 , 39199.1850534 ,\n",
       "       11857.41649888,  3306.14631589, 13026.61010124, 12811.55228475,\n",
       "        5116.4016545 , 11212.95057807,  4025.98890266,  8029.72457501,\n",
       "       10031.88005226,  9560.02736626,  5003.56259867,  3764.18283654,\n",
       "       12722.33848571, 33168.36724467, 30684.85821089, 40037.14334607,\n",
       "       27492.903502  ,  9337.30443023, -1491.43449478, 16716.42294067,\n",
       "        8378.08682421,  -599.5211043 , 14211.43879366,  3631.84568848,\n",
       "        2781.10991561,  2121.11163781, 14747.84881671, 11803.35166863,\n",
       "        1610.28192142,  2185.82473035,  8385.27996477, 32106.56450089,\n",
       "        6054.59153877,  9613.47836161, 14360.78099081,  7064.09793246,\n",
       "         136.54890409, 40531.96013987,  4290.60626465, 35517.14030696,\n",
       "        5448.89433824,  6960.39101441, 36153.25897426,  9626.93175239,\n",
       "        3287.31769738,  9952.57573603,  6378.16095196, 12180.55270262,\n",
       "        3101.31499563,  1638.20230798,  7068.08177438,  6875.20397891,\n",
       "        8166.2996535 ,  2715.84563393, 10951.02807554,  9151.39642118,\n",
       "       11337.49192696, 10274.3640036 ,  4250.23653257,  1103.39204017,\n",
       "        7276.51934867,  5889.4690635 ,  9224.99687388, 10256.61314136,\n",
       "        8262.96589641, 15354.09100022, 10832.7765097 , 14260.52970956,\n",
       "        1805.76218757, 10617.89596599,  4292.30716669, 16946.73338299,\n",
       "        3076.01625106,  4124.05273753, 14495.29210505,  4298.86528148,\n",
       "        9151.39642118, 33724.57191103,  5547.59426678, 11414.80937902,\n",
       "       40702.19263739,   437.93360857, 28841.1056303 , 12550.68066949,\n",
       "         -65.67501312, 25496.40792357,  3957.63794766,  8663.19313112,\n",
       "       34320.15415815,  7082.12721757,  6311.59089271,  9784.82929003,\n",
       "         367.36420762, 33906.4952979 , 10281.02275013,  5924.57638446,\n",
       "        3393.05472335,  1687.20190301,  9242.58030653,  2956.46020298,\n",
       "        8583.46933361,  1858.0207791 , 13034.26590991,  3805.14671387,\n",
       "       15083.98061946, 28140.477287  , 11388.40875399, 14705.54759217,\n",
       "        6098.17940406, 11407.59994117, -1094.74469668, 11501.93304852,\n",
       "        3693.16446117, 13371.92916553, 37778.60545451, 23959.11152661,\n",
       "        6136.11045802, 11104.84008886, 13862.68035538, 32069.06612408,\n",
       "        5511.40812164,  7490.40024389,  5895.8680089 ,  9032.95104937,\n",
       "       33925.88805345,  5630.13947283,  6267.40655771, 12661.42082051,\n",
       "        3731.12474307, 14102.95383854,  4565.85947333,  8251.32571352,\n",
       "         526.25516708, 10216.48510273,  3395.28689746, 32314.30497374,\n",
       "       13058.80204622, 10281.45310281, 37813.81939023, 10193.33856337,\n",
       "       10621.05583196, 11488.83133257, 27728.92664244, 11976.36935603,\n",
       "       34992.10883904, 29724.78668002, 26725.31252685,  3957.63794766,\n",
       "       10428.25854527,  9246.51389774,  1906.01786887,  4845.45909261,\n",
       "        3057.07296775, 12550.68066949, 14713.81176778,   967.5707526 ,\n",
       "        5448.89433824,  8295.90753623, 34792.49285618,  5502.39503145,\n",
       "       13448.64209356, 12491.70742742, 16077.42337981, 13283.74527636,\n",
       "       10836.66535595, 37333.86784294, 13771.48357715,  7816.26083992,\n",
       "       16620.4864583 , 27663.1396193 ,  4718.69798191, 38702.42745627,\n",
       "        8705.39707331,  3631.84568848, 13332.71897559,  5347.27649907,\n",
       "       38577.61829071,   -69.5633443 , 26216.25982122, 32610.42724986,\n",
       "        9424.43430588, 27271.88146801,  3707.97949475, 14537.24243502,\n",
       "       13212.72379626,   170.56936809, 25135.60926281,  4622.0472981 ,\n",
       "       11412.20325406,  2716.08680903, 39204.07667012,  6354.25620439,\n",
       "       16115.1652777 , 10592.10683415,  3211.97700111,  1061.56696394,\n",
       "        7808.80529134, 12533.30737788, 11464.55550816,  6715.59801721,\n",
       "       10727.24908917, 10658.93177941, 39063.90021393,  4046.56785588,\n",
       "       12354.3285777 ,  8680.68855451,  8317.75943652,  5172.06079357,\n",
       "        8980.52866527, 35091.40963734, -1759.46533496,  4623.91306061,\n",
       "        4686.96378993,  9149.20023401,  -531.66002578,  9050.17115461,\n",
       "       10968.21841723,  6699.35324764,  9152.60699099,  2530.31106067,\n",
       "        3883.88095401, 31601.38769361,  3239.7206472 , 26216.25982122,\n",
       "       34215.99462865,  7257.80174068,  6839.43988418,  7770.78859036,\n",
       "       10274.3640036 , 13849.58484558, 25145.80599879,  -599.5211043 ,\n",
       "       11335.97342198,  2677.28394997, 27810.29543798, 17851.85331103,\n",
       "        6826.51854573,  4059.39425368, 40702.19263739,  7092.52423088,\n",
       "       29605.97328107,  3892.46370877,  5377.76003723,  7735.83445576,\n",
       "       15344.44857535,  4615.84059294, 11587.09289289, 11364.70171462,\n",
       "       11669.63423448,  1315.67630211,  4690.17748862,  9983.91013638,\n",
       "        2737.22811042, 14949.39448165, 16074.15507244, 32375.50106181,\n",
       "       31914.43121996,  8203.55635741,  7314.24081443, 11414.80937902,\n",
       "        9983.91013638,  8271.70623758,  9078.81688441, 16902.76358908,\n",
       "        7734.36981799, 10801.77386711,  4958.70675313,  3835.93407717,\n",
       "        4944.14658831,  7123.16977275])"
      ]
     },
     "execution_count": 329,
     "metadata": {},
     "output_type": "execute_result"
    }
   ],
   "source": [
    "y_pred = lr.predict(x_test)\n",
    "y_pred"
   ]
  },
  {
   "cell_type": "code",
   "execution_count": 330,
   "id": "d2bb7d15-de2a-4183-a254-b6b4f36ed197",
   "metadata": {},
   "outputs": [
    {
     "data": {
      "text/plain": [
       "1106     8988.15875\n",
       "1321    28101.33305\n",
       "2313    12032.32600\n",
       "2274     1682.59700\n",
       "1432     3393.35635\n",
       "           ...     \n",
       "87      11073.17600\n",
       "1376    26018.95052\n",
       "2129     3757.84480\n",
       "2284     1634.57340\n",
       "432      5969.72300\n",
       "Name: charges, Length: 278, dtype: float64"
      ]
     },
     "execution_count": 330,
     "metadata": {},
     "output_type": "execute_result"
    }
   ],
   "source": [
    "y_test"
   ]
  },
  {
   "cell_type": "markdown",
   "id": "4d27ac97-ad24-4728-8d7a-dd24b5e6f5be",
   "metadata": {},
   "source": [
    "# cross validation"
   ]
  },
  {
   "cell_type": "code",
   "execution_count": 331,
   "id": "1b6e50da-ba16-45eb-9c13-bc610caaea83",
   "metadata": {},
   "outputs": [],
   "source": [
    "cv = KFold(n_splits=5 , random_state=50, shuffle=True)"
   ]
  },
  {
   "cell_type": "code",
   "execution_count": 332,
   "id": "0fd16dba-9e00-4723-b246-ff0629cb40dd",
   "metadata": {},
   "outputs": [
    {
     "data": {
      "text/plain": [
       "array([0.95383122, 0.94418987, 0.94246088, 0.95317778, 0.92329011])"
      ]
     },
     "execution_count": 332,
     "metadata": {},
     "output_type": "execute_result"
    }
   ],
   "source": [
    "#for Random forest regressor\n",
    "cross_val_score(estimator=Regressor ,X=x, y = y ,cv = cv)"
   ]
  },
  {
   "cell_type": "code",
   "execution_count": 333,
   "id": "f16de474-6cd3-4ac5-a286-9eac72126139",
   "metadata": {},
   "outputs": [
    {
     "data": {
      "text/plain": [
       "array([10252.37003392, 36925.63699247,  9242.58030653,  6095.56887906,\n",
       "        6498.52307519, 34140.83432712,  5889.4690635 , 39199.1850534 ,\n",
       "       11857.41649888,  3306.14631589, 13026.61010124, 12811.55228475,\n",
       "        5116.4016545 , 11212.95057807,  4025.98890266,  8029.72457501,\n",
       "       10031.88005226,  9560.02736626,  5003.56259867,  3764.18283654,\n",
       "       12722.33848571, 33168.36724467, 30684.85821089, 40037.14334607,\n",
       "       27492.903502  ,  9337.30443023, -1491.43449478, 16716.42294067,\n",
       "        8378.08682421,  -599.5211043 , 14211.43879366,  3631.84568848,\n",
       "        2781.10991561,  2121.11163781, 14747.84881671, 11803.35166863,\n",
       "        1610.28192142,  2185.82473035,  8385.27996477, 32106.56450089,\n",
       "        6054.59153877,  9613.47836161, 14360.78099081,  7064.09793246,\n",
       "         136.54890409, 40531.96013987,  4290.60626465, 35517.14030696,\n",
       "        5448.89433824,  6960.39101441, 36153.25897426,  9626.93175239,\n",
       "        3287.31769738,  9952.57573603,  6378.16095196, 12180.55270262,\n",
       "        3101.31499563,  1638.20230798,  7068.08177438,  6875.20397891,\n",
       "        8166.2996535 ,  2715.84563393, 10951.02807554,  9151.39642118,\n",
       "       11337.49192696, 10274.3640036 ,  4250.23653257,  1103.39204017,\n",
       "        7276.51934867,  5889.4690635 ,  9224.99687388, 10256.61314136,\n",
       "        8262.96589641, 15354.09100022, 10832.7765097 , 14260.52970956,\n",
       "        1805.76218757, 10617.89596599,  4292.30716669, 16946.73338299,\n",
       "        3076.01625106,  4124.05273753, 14495.29210505,  4298.86528148,\n",
       "        9151.39642118, 33724.57191103,  5547.59426678, 11414.80937902,\n",
       "       40702.19263739,   437.93360857, 28841.1056303 , 12550.68066949,\n",
       "         -65.67501312, 25496.40792357,  3957.63794766,  8663.19313112,\n",
       "       34320.15415815,  7082.12721757,  6311.59089271,  9784.82929003,\n",
       "         367.36420762, 33906.4952979 , 10281.02275013,  5924.57638446,\n",
       "        3393.05472335,  1687.20190301,  9242.58030653,  2956.46020298,\n",
       "        8583.46933361,  1858.0207791 , 13034.26590991,  3805.14671387,\n",
       "       15083.98061946, 28140.477287  , 11388.40875399, 14705.54759217,\n",
       "        6098.17940406, 11407.59994117, -1094.74469668, 11501.93304852,\n",
       "        3693.16446117, 13371.92916553, 37778.60545451, 23959.11152661,\n",
       "        6136.11045802, 11104.84008886, 13862.68035538, 32069.06612408,\n",
       "        5511.40812164,  7490.40024389,  5895.8680089 ,  9032.95104937,\n",
       "       33925.88805345,  5630.13947283,  6267.40655771, 12661.42082051,\n",
       "        3731.12474307, 14102.95383854,  4565.85947333,  8251.32571352,\n",
       "         526.25516708, 10216.48510273,  3395.28689746, 32314.30497374,\n",
       "       13058.80204622, 10281.45310281, 37813.81939023, 10193.33856337,\n",
       "       10621.05583196, 11488.83133257, 27728.92664244, 11976.36935603,\n",
       "       34992.10883904, 29724.78668002, 26725.31252685,  3957.63794766,\n",
       "       10428.25854527,  9246.51389774,  1906.01786887,  4845.45909261,\n",
       "        3057.07296775, 12550.68066949, 14713.81176778,   967.5707526 ,\n",
       "        5448.89433824,  8295.90753623, 34792.49285618,  5502.39503145,\n",
       "       13448.64209356, 12491.70742742, 16077.42337981, 13283.74527636,\n",
       "       10836.66535595, 37333.86784294, 13771.48357715,  7816.26083992,\n",
       "       16620.4864583 , 27663.1396193 ,  4718.69798191, 38702.42745627,\n",
       "        8705.39707331,  3631.84568848, 13332.71897559,  5347.27649907,\n",
       "       38577.61829071,   -69.5633443 , 26216.25982122, 32610.42724986,\n",
       "        9424.43430588, 27271.88146801,  3707.97949475, 14537.24243502,\n",
       "       13212.72379626,   170.56936809, 25135.60926281,  4622.0472981 ,\n",
       "       11412.20325406,  2716.08680903, 39204.07667012,  6354.25620439,\n",
       "       16115.1652777 , 10592.10683415,  3211.97700111,  1061.56696394,\n",
       "        7808.80529134, 12533.30737788, 11464.55550816,  6715.59801721,\n",
       "       10727.24908917, 10658.93177941, 39063.90021393,  4046.56785588,\n",
       "       12354.3285777 ,  8680.68855451,  8317.75943652,  5172.06079357,\n",
       "        8980.52866527, 35091.40963734, -1759.46533496,  4623.91306061,\n",
       "        4686.96378993,  9149.20023401,  -531.66002578,  9050.17115461,\n",
       "       10968.21841723,  6699.35324764,  9152.60699099,  2530.31106067,\n",
       "        3883.88095401, 31601.38769361,  3239.7206472 , 26216.25982122,\n",
       "       34215.99462865,  7257.80174068,  6839.43988418,  7770.78859036,\n",
       "       10274.3640036 , 13849.58484558, 25145.80599879,  -599.5211043 ,\n",
       "       11335.97342198,  2677.28394997, 27810.29543798, 17851.85331103,\n",
       "        6826.51854573,  4059.39425368, 40702.19263739,  7092.52423088,\n",
       "       29605.97328107,  3892.46370877,  5377.76003723,  7735.83445576,\n",
       "       15344.44857535,  4615.84059294, 11587.09289289, 11364.70171462,\n",
       "       11669.63423448,  1315.67630211,  4690.17748862,  9983.91013638,\n",
       "        2737.22811042, 14949.39448165, 16074.15507244, 32375.50106181,\n",
       "       31914.43121996,  8203.55635741,  7314.24081443, 11414.80937902,\n",
       "        9983.91013638,  8271.70623758,  9078.81688441, 16902.76358908,\n",
       "        7734.36981799, 10801.77386711,  4958.70675313,  3835.93407717,\n",
       "        4944.14658831,  7123.16977275])"
      ]
     },
     "execution_count": 333,
     "metadata": {},
     "output_type": "execute_result"
    }
   ],
   "source": [
    "y_predict = lr.predict(x_test)\n",
    "y_predict"
   ]
  },
  {
   "cell_type": "markdown",
   "id": "e9ad5a4f-2484-4a02-9c44-9366cd6df07e",
   "metadata": {},
   "source": [
    "# SVR(support vector regression)"
   ]
  },
  {
   "cell_type": "code",
   "execution_count": 334,
   "id": "ad6960e0-89d5-4736-b6fa-cf7be27f886b",
   "metadata": {},
   "outputs": [],
   "source": [
    "from sklearn.linear_model import LinearRegression, Lasso, Ridge\n",
    "from sklearn.svm import SVR\n",
    "from sklearn import metrics"
   ]
  },
  {
   "cell_type": "code",
   "execution_count": 343,
   "id": "baea0063-79e6-44e9-94af-99ee829848d8",
   "metadata": {},
   "outputs": [
    {
     "name": "stdout",
     "output_type": "stream",
     "text": [
      "MSE =  42307759.59541856\n",
      "RMSE =  6504.441528326514\n"
     ]
    }
   ],
   "source": [
    "# mse rmse & re_score\n",
    "mse = mean_squared_error(y_test, y_pred)\n",
    "rmse = np.sqrt(mse)\n",
    "print('MSE = ', mse)\n",
    "print('RMSE = ', rmse)"
   ]
  },
  {
   "cell_type": "code",
   "execution_count": 336,
   "id": "8fd3de7d-159c-45db-ad26-418845853657",
   "metadata": {},
   "outputs": [
    {
     "data": {
      "text/plain": [
       "0.7216970113368687"
      ]
     },
     "execution_count": 336,
     "metadata": {},
     "output_type": "execute_result"
    }
   ],
   "source": [
    "r2_score(y_test,y_pred)"
   ]
  },
  {
   "cell_type": "code",
   "execution_count": 338,
   "id": "0c421bdf-ff5b-4276-ba1f-c0903162248f",
   "metadata": {},
   "outputs": [],
   "source": [
    "from sklearn.neighbors import KNeighborsRegressor\n",
    "knn = KNeighborsRegressor(n_neighbors=5)"
   ]
  },
  {
   "cell_type": "code",
   "execution_count": 339,
   "id": "525eca92-385e-4710-b49f-84c22da80cd6",
   "metadata": {},
   "outputs": [
    {
     "data": {
      "text/plain": [
       "2494"
      ]
     },
     "execution_count": 339,
     "metadata": {},
     "output_type": "execute_result"
    }
   ],
   "source": [
    "len(x_train)"
   ]
  },
  {
   "cell_type": "code",
   "execution_count": 340,
   "id": "77afc648-8611-406b-be90-58e946d7f748",
   "metadata": {},
   "outputs": [
    {
     "data": {
      "text/plain": [
       "278"
      ]
     },
     "execution_count": 340,
     "metadata": {},
     "output_type": "execute_result"
    }
   ],
   "source": [
    "len(x_test)"
   ]
  },
  {
   "cell_type": "markdown",
   "id": "2a8c85ae-fb1b-4490-8d49-83a081837627",
   "metadata": {},
   "source": [
    "# KNN (k-nearest neighbour)"
   ]
  },
  {
   "cell_type": "code",
   "execution_count": 341,
   "id": "066626c4-365a-4e8c-8161-73079c312a53",
   "metadata": {},
   "outputs": [
    {
     "data": {
      "text/html": [
       "<style>#sk-container-id-22 {color: black;background-color: white;}#sk-container-id-22 pre{padding: 0;}#sk-container-id-22 div.sk-toggleable {background-color: white;}#sk-container-id-22 label.sk-toggleable__label {cursor: pointer;display: block;width: 100%;margin-bottom: 0;padding: 0.3em;box-sizing: border-box;text-align: center;}#sk-container-id-22 label.sk-toggleable__label-arrow:before {content: \"▸\";float: left;margin-right: 0.25em;color: #696969;}#sk-container-id-22 label.sk-toggleable__label-arrow:hover:before {color: black;}#sk-container-id-22 div.sk-estimator:hover label.sk-toggleable__label-arrow:before {color: black;}#sk-container-id-22 div.sk-toggleable__content {max-height: 0;max-width: 0;overflow: hidden;text-align: left;background-color: #f0f8ff;}#sk-container-id-22 div.sk-toggleable__content pre {margin: 0.2em;color: black;border-radius: 0.25em;background-color: #f0f8ff;}#sk-container-id-22 input.sk-toggleable__control:checked~div.sk-toggleable__content {max-height: 200px;max-width: 100%;overflow: auto;}#sk-container-id-22 input.sk-toggleable__control:checked~label.sk-toggleable__label-arrow:before {content: \"▾\";}#sk-container-id-22 div.sk-estimator input.sk-toggleable__control:checked~label.sk-toggleable__label {background-color: #d4ebff;}#sk-container-id-22 div.sk-label input.sk-toggleable__control:checked~label.sk-toggleable__label {background-color: #d4ebff;}#sk-container-id-22 input.sk-hidden--visually {border: 0;clip: rect(1px 1px 1px 1px);clip: rect(1px, 1px, 1px, 1px);height: 1px;margin: -1px;overflow: hidden;padding: 0;position: absolute;width: 1px;}#sk-container-id-22 div.sk-estimator {font-family: monospace;background-color: #f0f8ff;border: 1px dotted black;border-radius: 0.25em;box-sizing: border-box;margin-bottom: 0.5em;}#sk-container-id-22 div.sk-estimator:hover {background-color: #d4ebff;}#sk-container-id-22 div.sk-parallel-item::after {content: \"\";width: 100%;border-bottom: 1px solid gray;flex-grow: 1;}#sk-container-id-22 div.sk-label:hover label.sk-toggleable__label {background-color: #d4ebff;}#sk-container-id-22 div.sk-serial::before {content: \"\";position: absolute;border-left: 1px solid gray;box-sizing: border-box;top: 0;bottom: 0;left: 50%;z-index: 0;}#sk-container-id-22 div.sk-serial {display: flex;flex-direction: column;align-items: center;background-color: white;padding-right: 0.2em;padding-left: 0.2em;position: relative;}#sk-container-id-22 div.sk-item {position: relative;z-index: 1;}#sk-container-id-22 div.sk-parallel {display: flex;align-items: stretch;justify-content: center;background-color: white;position: relative;}#sk-container-id-22 div.sk-item::before, #sk-container-id-22 div.sk-parallel-item::before {content: \"\";position: absolute;border-left: 1px solid gray;box-sizing: border-box;top: 0;bottom: 0;left: 50%;z-index: -1;}#sk-container-id-22 div.sk-parallel-item {display: flex;flex-direction: column;z-index: 1;position: relative;background-color: white;}#sk-container-id-22 div.sk-parallel-item:first-child::after {align-self: flex-end;width: 50%;}#sk-container-id-22 div.sk-parallel-item:last-child::after {align-self: flex-start;width: 50%;}#sk-container-id-22 div.sk-parallel-item:only-child::after {width: 0;}#sk-container-id-22 div.sk-dashed-wrapped {border: 1px dashed gray;margin: 0 0.4em 0.5em 0.4em;box-sizing: border-box;padding-bottom: 0.4em;background-color: white;}#sk-container-id-22 div.sk-label label {font-family: monospace;font-weight: bold;display: inline-block;line-height: 1.2em;}#sk-container-id-22 div.sk-label-container {text-align: center;}#sk-container-id-22 div.sk-container {/* jupyter's `normalize.less` sets `[hidden] { display: none; }` but bootstrap.min.css set `[hidden] { display: none !important; }` so we also need the `!important` here to be able to override the default hidden behavior on the sphinx rendered scikit-learn.org. See: https://github.com/scikit-learn/scikit-learn/issues/21755 */display: inline-block !important;position: relative;}#sk-container-id-22 div.sk-text-repr-fallback {display: none;}</style><div id=\"sk-container-id-22\" class=\"sk-top-container\"><div class=\"sk-text-repr-fallback\"><pre>KNeighborsRegressor()</pre><b>In a Jupyter environment, please rerun this cell to show the HTML representation or trust the notebook. <br />On GitHub, the HTML representation is unable to render, please try loading this page with nbviewer.org.</b></div><div class=\"sk-container\" hidden><div class=\"sk-item\"><div class=\"sk-estimator sk-toggleable\"><input class=\"sk-toggleable__control sk-hidden--visually\" id=\"sk-estimator-id-22\" type=\"checkbox\" checked><label for=\"sk-estimator-id-22\" class=\"sk-toggleable__label sk-toggleable__label-arrow\">KNeighborsRegressor</label><div class=\"sk-toggleable__content\"><pre>KNeighborsRegressor()</pre></div></div></div></div></div>"
      ],
      "text/plain": [
       "KNeighborsRegressor()"
      ]
     },
     "execution_count": 341,
     "metadata": {},
     "output_type": "execute_result"
    }
   ],
   "source": [
    "knn.fit(x_train, y_train)"
   ]
  },
  {
   "cell_type": "code",
   "execution_count": 342,
   "id": "e2554309-821f-46a9-a1b7-f906cb254fd3",
   "metadata": {},
   "outputs": [
    {
     "data": {
      "text/plain": [
       "0.42737768377679797"
      ]
     },
     "execution_count": 342,
     "metadata": {},
     "output_type": "execute_result"
    }
   ],
   "source": [
    "knn.score(x_test,y_test)"
   ]
  },
  {
   "cell_type": "raw",
   "id": "9e3fe443-e814-4acc-b4c2-3d14104f54b2",
   "metadata": {},
   "source": [
    "conclusion : In this project the best acuracy is of decison tree regressor is 0.99%"
   ]
  },
  {
   "cell_type": "code",
   "execution_count": null,
   "id": "0f82e978-77f3-4333-b8b0-5841aa77d6c5",
   "metadata": {},
   "outputs": [],
   "source": []
  }
 ],
 "metadata": {
  "kernelspec": {
   "display_name": "Python 3 (ipykernel)",
   "language": "python",
   "name": "python3"
  },
  "language_info": {
   "codemirror_mode": {
    "name": "ipython",
    "version": 3
   },
   "file_extension": ".py",
   "mimetype": "text/x-python",
   "name": "python",
   "nbconvert_exporter": "python",
   "pygments_lexer": "ipython3",
   "version": "3.11.7"
  }
 },
 "nbformat": 4,
 "nbformat_minor": 5
}
